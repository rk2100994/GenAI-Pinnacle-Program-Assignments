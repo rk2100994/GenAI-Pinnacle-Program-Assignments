{
 "cells": [
  {
   "cell_type": "code",
   "execution_count": 94,
   "metadata": {},
   "outputs": [
    {
     "data": {
      "text/plain": [
       "[['Name', ['A', 'B', 'C', 'D', 'E']],\n",
       " ['Ankit', [41, 34, 45, 55, 63]],\n",
       " ['Aravind', [42, 23, 34, 44, 53]],\n",
       " ['Lakshay', [32, 23, 13, 54, 67]],\n",
       " ['Gyan', [23, 82, 23, 63, 34]],\n",
       " ['Pranav', [21, 23, 25, 56, 56]]]"
      ]
     },
     "execution_count": 94,
     "metadata": {},
     "output_type": "execute_result"
    }
   ],
   "source": [
    "student_marks = [['Name', ['A','B','C','D','E']],\n",
    "                ['Ankit',[41,34,45,55,63]],\n",
    "                ['Aravind',[42,23,34,44,53]],\n",
    "                ['Lakshay',[32,23,13,54,67]],\n",
    "                ['Gyan',[23,82,23,63,34]],\n",
    "                ['Pranav',[21,23,25,56,56]]\n",
    "                ]\n",
    "student_marks"
   ]
  },
  {
   "cell_type": "markdown",
   "metadata": {},
   "source": [
    "### Who scored the highest marks in the subject B?"
   ]
  },
  {
   "cell_type": "code",
   "execution_count": 95,
   "metadata": {},
   "outputs": [
    {
     "name": "stdout",
     "output_type": "stream",
     "text": [
      "Gyan 82\n"
     ]
    }
   ],
   "source": [
    "highest_marks = -1\n",
    "top_student = \"\"\n",
    "for student in student_marks[1:]:\n",
    "    name = student[0]\n",
    "    marks = student[1]\n",
    "    if marks[1] > highest_marks:\n",
    "        highest_marks = marks[1]\n",
    "        top_student = name \n",
    "\n",
    "print(top_student,highest_marks)"
   ]
  },
  {
   "cell_type": "markdown",
   "metadata": {},
   "source": [
    "###  What is the average marks scored in the subject C? "
   ]
  },
  {
   "cell_type": "code",
   "execution_count": 96,
   "metadata": {},
   "outputs": [
    {
     "name": "stdout",
     "output_type": "stream",
     "text": [
      "28.0\n"
     ]
    }
   ],
   "source": [
    "total_marks = 0\n",
    "num_students = 0\n",
    "for student in student_marks[1:]:\n",
    "    marks = student[1]\n",
    "    total_marks += marks[2]\n",
    "    num_students += 1\n",
    "average_marks = total_marks/num_students\n",
    "print(average_marks)"
   ]
  },
  {
   "cell_type": "markdown",
   "metadata": {},
   "source": [
    "### Who scored the highest percentage of marks?"
   ]
  },
  {
   "cell_type": "code",
   "execution_count": 97,
   "metadata": {},
   "outputs": [
    {
     "name": "stdout",
     "output_type": "stream",
     "text": [
      "Ankit 36.199999999999996\n"
     ]
    }
   ],
   "source": [
    "highest_percentage = -1\n",
    "top_student = \"\"\n",
    "for student in student_marks[1:]:\n",
    "    name = student[0]\n",
    "    marks = studnet[1]\n",
    "    percentage = (sum(marks)/(len(marks)*100)) * 100\n",
    "    if percentage > highest_percentage:\n",
    "        highest_percentage = percentage\n",
    "        top_student = name\n",
    "print(top_student, highest_percentage)\n",
    "    \n",
    "highest_percentage = -1\n",
    "top_student = \"\""
   ]
  },
  {
   "cell_type": "markdown",
   "metadata": {},
   "source": [
    "###  If considered only top-4 subjects of a candidate, then who scored the highest percentage of marks? "
   ]
  },
  {
   "cell_type": "code",
   "execution_count": 98,
   "metadata": {},
   "outputs": [
    {
     "name": "stdout",
     "output_type": "stream",
     "text": [
      "Ankit 51.0\n"
     ]
    }
   ],
   "source": [
    "highest_percentage = -1\n",
    "top_student = \"\"\n",
    "\n",
    "# Iterate through the students' marks\n",
    "for student in student_marks[1:]:\n",
    "    name = student[0]\n",
    "    marks = student[1]\n",
    "    top_4_marks = sorted(marks, reverse=True)[:4]\n",
    "    total_top_4_marks = sum(top_4_marks)\n",
    "    percentage = (total_top_4_marks / (4 * 100)) * 100  # Assuming each subject is out of 100\n",
    "    if percentage > highest_percentage:\n",
    "        highest_percentage = percentage\n",
    "        top_student = name\n",
    "        \n",
    "        \n",
    "print(top_student, highest_percentage)"
   ]
  },
  {
   "cell_type": "code",
   "execution_count": null,
   "metadata": {},
   "outputs": [],
   "source": []
  }
 ],
 "metadata": {
  "kernelspec": {
   "display_name": "Python 3",
   "language": "python",
   "name": "python3"
  },
  "language_info": {
   "codemirror_mode": {
    "name": "ipython",
    "version": 3
   },
   "file_extension": ".py",
   "mimetype": "text/x-python",
   "name": "python",
   "nbconvert_exporter": "python",
   "pygments_lexer": "ipython3",
   "version": "3.7.4"
  }
 },
 "nbformat": 4,
 "nbformat_minor": 4
}
